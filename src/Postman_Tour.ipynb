{
 "cells": [
  {
   "cell_type": "markdown",
   "metadata": {},
   "source": [
    "# Postman Tour generic code"
   ]
  },
  {
   "cell_type": "code",
   "execution_count": 1,
   "metadata": {},
   "outputs": [],
   "source": [
    "# TODO\n",
    "# -- create a class of networks to store all the information generated\n",
    "# -- uses logger rather than print\n",
    "# -- implement unit testing / pipeline testing\n",
    "# -- convert config to YAML"
   ]
  },
  {
   "cell_type": "markdown",
   "metadata": {},
   "source": [
    "## Configuration"
   ]
  },
  {
   "cell_type": "code",
   "execution_count": 2,
   "metadata": {},
   "outputs": [],
   "source": [
    "import pandas as pd\n",
    "import networkx as nx\n",
    "import matplotlib.pyplot as plt\n",
    "import itertools\n",
    "import numpy as np\n",
    "import imageio\n",
    "import pytest\n",
    "# import osmnx    # couldn't install this package; abandoning visualization here for now"
   ]
  },
  {
   "cell_type": "code",
   "execution_count": 3,
   "metadata": {},
   "outputs": [],
   "source": [
    "config = {\n",
    "    'sub_nets': {\n",
    "        'A': ['A', 'all'],\n",
    "        'B': ['B', 'all']\n",
    "    },\n",
    "    \n",
    "    'start_nodes': {\n",
    "        'A': \"A4\",\n",
    "        'B': \"A4\"\n",
    "    },\n",
    "    \n",
    "    'infile': \"KampongGlamNetwork.xlsx\",\n",
    "    'edge_sht': \"Edges\",\n",
    "    \n",
    "    'method': 'path',   # DEFUNCT\n",
    "}"
   ]
  },
  {
   "cell_type": "code",
   "execution_count": 4,
   "metadata": {},
   "outputs": [
    {
     "data": {
      "text/html": [
       "<div>\n",
       "<style scoped>\n",
       "    .dataframe tbody tr th:only-of-type {\n",
       "        vertical-align: middle;\n",
       "    }\n",
       "\n",
       "    .dataframe tbody tr th {\n",
       "        vertical-align: top;\n",
       "    }\n",
       "\n",
       "    .dataframe thead th {\n",
       "        text-align: right;\n",
       "    }\n",
       "</style>\n",
       "<table border=\"1\" class=\"dataframe\">\n",
       "  <thead>\n",
       "    <tr style=\"text-align: right;\">\n",
       "      <th></th>\n",
       "      <th>NodeA</th>\n",
       "      <th>NodeB</th>\n",
       "      <th>distance</th>\n",
       "      <th>graph</th>\n",
       "      <th>section</th>\n",
       "    </tr>\n",
       "  </thead>\n",
       "  <tbody>\n",
       "    <tr>\n",
       "      <th>0</th>\n",
       "      <td>A1</td>\n",
       "      <td>A2</td>\n",
       "      <td>100</td>\n",
       "      <td>original</td>\n",
       "      <td>A</td>\n",
       "    </tr>\n",
       "    <tr>\n",
       "      <th>1</th>\n",
       "      <td>A2</td>\n",
       "      <td>L1</td>\n",
       "      <td>34</td>\n",
       "      <td>original</td>\n",
       "      <td>A</td>\n",
       "    </tr>\n",
       "    <tr>\n",
       "      <th>2</th>\n",
       "      <td>L1</td>\n",
       "      <td>B2</td>\n",
       "      <td>34</td>\n",
       "      <td>original</td>\n",
       "      <td>A</td>\n",
       "    </tr>\n",
       "    <tr>\n",
       "      <th>3</th>\n",
       "      <td>B2</td>\n",
       "      <td>C3</td>\n",
       "      <td>72</td>\n",
       "      <td>original</td>\n",
       "      <td>A</td>\n",
       "    </tr>\n",
       "    <tr>\n",
       "      <th>4</th>\n",
       "      <td>C3</td>\n",
       "      <td>C2</td>\n",
       "      <td>45</td>\n",
       "      <td>original</td>\n",
       "      <td>A</td>\n",
       "    </tr>\n",
       "  </tbody>\n",
       "</table>\n",
       "</div>"
      ],
      "text/plain": [
       "  NodeA NodeB  distance     graph section\n",
       "0    A1    A2       100  original       A\n",
       "1    A2    L1        34  original       A\n",
       "2    L1    B2        34  original       A\n",
       "3    B2    C3        72  original       A\n",
       "4    C3    C2        45  original       A"
      ]
     },
     "execution_count": 4,
     "metadata": {},
     "output_type": "execute_result"
    }
   ],
   "source": [
    "network_df = pd.read_excel(config['infile'], sheet_name=config['edge_sht'])\n",
    "\n",
    "network_df.head()"
   ]
  },
  {
   "cell_type": "code",
   "execution_count": 5,
   "metadata": {},
   "outputs": [
    {
     "data": {
      "text/plain": [
       "dict_keys(['A', 'B'])"
      ]
     },
     "execution_count": 5,
     "metadata": {},
     "output_type": "execute_result"
    }
   ],
   "source": [
    "config['sub_nets'].keys()"
   ]
  },
  {
   "cell_type": "code",
   "execution_count": 6,
   "metadata": {},
   "outputs": [
    {
     "name": "stdout",
     "output_type": "stream",
     "text": [
      "Making graph:  A\n",
      "-- Adding: (A1,A2)\n",
      "-- Adding: (A2,L1)\n",
      "-- Adding: (L1,B2)\n",
      "-- Adding: (B2,C3)\n",
      "-- Adding: (C3,C2)\n",
      "-- Adding: (C2,C1)\n",
      "-- Adding: (C1,B1)\n",
      "-- Adding: (B1,A1)\n",
      "-- Adding: (B1,B1-2)\n",
      "-- Adding: (B1-2,L1)\n",
      "-- Adding: (B1-2,C2)\n",
      "-- Adding: (C2,J1)\n",
      "-- Adding: (J1,J2)\n",
      "-- Adding: (J1,D2)\n",
      "-- Adding: (D2,D1)\n",
      "-- Adding: (D1,E1)\n",
      "-- Adding: (E1,F1)\n",
      "-- Adding: (F1,G1)\n",
      "-- Adding: (F1,F2)\n",
      "-- Adding: (F2,F3)\n",
      "-- Adding: (F3,H3)\n",
      "-- Adding: (H3,G3)\n",
      "-- Adding: (H3,H2)\n",
      "-- Adding: (E2,E3)\n",
      "-- Adding: (E1,E2)\n",
      "-- Adding: (E3,E4)\n",
      "-- Adding: (E4,F3)\n",
      "-- Adding: (I1,E2)\n",
      "-- Adding: (K1,C3)\n",
      "-- Adding: (K1,K2)\n",
      "-- Adding: (K2,K3)\n",
      "-- Adding: (K3,E4)\n",
      "-- Adding: (C4,C5)\n",
      "-- Adding: (C4,B3)\n",
      "-- Adding: (B2,B3)\n",
      "-- Adding: (B3,B4)\n",
      "-- Adding: (B4,B5)\n",
      "-- Adding: (B5,A4)\n",
      "-- Adding: (A4,A3)\n",
      "-- Adding: (A3,A2)\n",
      "-- Adding: (L2,B4)\n",
      "-- Adding: (L2,B3)\n",
      "-- Adding: (L2,A3)\n",
      "-- Adding: (A4,B5)\n",
      "-- Adding: (I1,D3)\n",
      "-- Adding: (D3,J3)\n",
      "-- Adding: (J3,J2)\n",
      "-- Adding: (J2,K1)\n",
      "-- Adding: (D2,D3)\n",
      "-- Adding: (G1,G2)\n",
      "-- Adding: (G2,G3)\n",
      "-- Adding: (F2,G2)\n",
      "-- Adding: (F2,E2)\n",
      "-- Adding: (B5,C7)\n",
      "-- Adding: (C7,C6)\n",
      "-- Adding: (C7,K3)\n",
      "-- Adding: (C1,D1)\n",
      "-- Adding: (B1-2,B2)\n",
      "-- Adding: (C3,C4)\n",
      "-- Adding: (D4,J4)\n",
      "-- Adding: (D4,D3)\n",
      "-- Adding: (D4,I2)\n",
      "-- Adding: (I1,I2)\n",
      "-- Adding: (E3,I2)\n",
      "-- Adding: (J4,J3)\n",
      "-- Adding: (J4,K2)\n",
      "# of edges in A: 65\n",
      "Making graph:  B\n",
      "-- Adding: (N1,O1)\n",
      "-- Adding: (A4,A5)\n",
      "-- Adding: (B6,B5)\n",
      "-- Adding: (C10,C9)\n",
      "-- Adding: (M3,M2)\n",
      "-- Adding: (N3,N2)\n",
      "-- Adding: (O2,O1)\n",
      "-- Adding: (E6,E4)\n",
      "-- Adding: (E4,G3)\n",
      "-- Adding: (G4,E6)\n",
      "-- Adding: (E6,O2)\n",
      "-- Adding: (O2,N3)\n",
      "-- Adding: (N3,M3)\n",
      "-- Adding: (M3,C10)\n",
      "-- Adding: (C10,B6)\n",
      "-- Adding: (B6,A5)\n",
      "-- Adding: (C9,C8)\n",
      "-- Adding: (M2,M1)\n",
      "-- Adding: (N2,N1)\n",
      "-- Adding: (A4,B5)\n",
      "-- Adding: (B5,C8)\n",
      "-- Adding: (C8,M1)\n",
      "-- Adding: (M1,N1)\n",
      "-- Adding: (G3,G4)\n",
      "-- Adding: (E4,O1)\n",
      "-- Adding: (O1,N1)\n",
      "# of edges in B: 25\n"
     ]
    }
   ],
   "source": [
    "graphs = {}\n",
    "for s in config['sub_nets'].keys():\n",
    "    print(\"Making graph: \", s)\n",
    "    graphs[s] = nx.Graph()\n",
    "    \n",
    "    # Add edges and edge attributes\n",
    "    for index, row in network_df.iterrows():\n",
    "        # add the appropriate edges only\n",
    "        if row['section'] in config['sub_nets'][s]:\n",
    "            print(\"-- Adding: (\" + row['NodeA'] + \",\" + row['NodeB'] + \")\")\n",
    "            graphs[s].add_edge(row['NodeA'], row['NodeB'], **row[2:].to_dict())\n",
    "            \n",
    "    print('# of edges in {}: {}'.format(s, graphs[s].number_of_edges()))"
   ]
  },
  {
   "cell_type": "code",
   "execution_count": 7,
   "metadata": {},
   "outputs": [
    {
     "data": {
      "text/plain": [
       "[('A1', 'A2', {'distance': 100, 'graph': 'original', 'section': 'A'}),\n",
       " ('A1', 'B1', {'distance': 66, 'graph': 'original', 'section': 'A'}),\n",
       " ('A2', 'L1', {'distance': 34, 'graph': 'original', 'section': 'A'}),\n",
       " ('A2', 'A3', {'distance': 106, 'graph': 'original', 'section': 'A'}),\n",
       " ('L1', 'B2', {'distance': 34, 'graph': 'original', 'section': 'A'})]"
      ]
     },
     "execution_count": 7,
     "metadata": {},
     "output_type": "execute_result"
    }
   ],
   "source": [
    "# Preview first 5 edges\n",
    "list(graphs['A'].edges(data=True))[0:5]"
   ]
  },
  {
   "cell_type": "markdown",
   "metadata": {},
   "source": [
    "## Optimize the path"
   ]
  },
  {
   "cell_type": "code",
   "execution_count": 8,
   "metadata": {},
   "outputs": [],
   "source": [
    "def get_shortest_paths_distances(graph, pairs, edge_weight_name):\n",
    "    \"\"\"\n",
    "    Compute shortest distance between each pair of nodes in a graph.  Return a dictionary keyed on node pairs (tuples).\n",
    "    \n",
    "    Uses Dijkstra's algorithm from networkx library\n",
    "    \n",
    "    Taken from http://brooksandrew.github.io/simpleblog/articles/intro-to-graph-optimization-solving-cpp/\n",
    "    \"\"\"\n",
    "    distances = {}\n",
    "    for pair in pairs:\n",
    "        distances[pair] = nx.dijkstra_path_length(graph, pair[0], pair[1], weight=edge_weight_name)\n",
    "        \n",
    "    return distances"
   ]
  },
  {
   "cell_type": "code",
   "execution_count": 9,
   "metadata": {},
   "outputs": [],
   "source": [
    "def create_complete_graph(pair_weights, flip_weights=True):\n",
    "    \"\"\"\n",
    "    Create a completely connected graph using a list of vertex pairs and the shortest path distances between them\n",
    "    Parameters: \n",
    "        pair_weights: list[tuple] from the output of get_shortest_paths_distances\n",
    "        flip_weights: Boolean. Should we negate the edge attribute in pair_weights?\n",
    "        \n",
    "    Taken from http://brooksandrew.github.io/simpleblog/articles/intro-to-graph-optimization-solving-cpp/\n",
    "    \"\"\"\n",
    "    g = nx.Graph()\n",
    "    for k, v in pair_weights.items():\n",
    "        wt_i = - v if flip_weights else v\n",
    "        g.add_edge(k[0], k[1], **{'distance': v, 'weight': wt_i})\n",
    "        \n",
    "    return g"
   ]
  },
  {
   "cell_type": "code",
   "execution_count": 10,
   "metadata": {},
   "outputs": [],
   "source": [
    "def add_augmenting_path_to_graph(graph, min_weight_pairs):\n",
    "    \"\"\"\n",
    "    Add the min weight matching edges to the original graph\n",
    "    Parameters:\n",
    "        graph: NetworkX graph (original graph from trailmap)\n",
    "        min_weight_pairs: list[tuples] of node pairs from min weight matching\n",
    "    Returns:\n",
    "        augmented NetworkX graph\n",
    "        \n",
    "    Taken from http://brooksandrew.github.io/simpleblog/articles/intro-to-graph-optimization-solving-cpp/\n",
    "    \"\"\"\n",
    "    \n",
    "    # We need to make the augmented graph a MultiGraph so we can add parallel edges\n",
    "    graph_aug = nx.MultiGraph(graph.copy())\n",
    "    for pair in min_weight_pairs:\n",
    "        graph_aug.add_edge(pair[0], \n",
    "                           pair[1], \n",
    "                           **{'distance': nx.dijkstra_path_length(graph, pair[0], pair[1]), 'graph': 'augmented'}\n",
    "                          )\n",
    "        \n",
    "    return graph_aug"
   ]
  },
  {
   "cell_type": "code",
   "execution_count": 11,
   "metadata": {},
   "outputs": [],
   "source": [
    "def create_eulerian_circuit(graph_augmented, graph_original, starting_node=None, method='circuit'):\n",
    "    \"\"\"\n",
    "    Create the eulerian path using only edges from the original graph.\n",
    "    \n",
    "    Taken from http://brooksandrew.github.io/simpleblog/articles/intro-to-graph-optimization-solving-cpp/\n",
    "    \"\"\"\n",
    "    \n",
    "    # get the first best-guess circuit.  N.B. will contain edges that don't exist in the original graph\n",
    "    euler_circuit = []\n",
    "    naive_circuit = list(nx.eulerian_circuit(graph_augmented, source=starting_node))\n",
    "    \n",
    "    for edge in naive_circuit:\n",
    "        edge_data = graph_augmented.get_edge_data(edge[0], edge[1])    \n",
    "        \n",
    "        if edge_data[0]['graph'] != 'augmented':\n",
    "            # If `edge` exists in original graph, grab the edge attributes and add to eulerian circuit.\n",
    "            edge_att = graph_original[edge[0]][edge[1]]\n",
    "            euler_circuit.append((edge[0], edge[1], edge_att)) \n",
    "        else: \n",
    "            # find the shortest path between true nodes\n",
    "            aug_path = nx.shortest_path(graph_original, edge[0], edge[1], weight='distance')\n",
    "            aug_path_pairs = list(zip(aug_path[:-1], aug_path[1:]))\n",
    "            \n",
    "            print('Filling in edges for augmented edge: {}'.format(edge))\n",
    "            print('Augmenting path: {}'.format(' => '.join(aug_path)))\n",
    "            print('Augmenting path pairs: {}\\n'.format(aug_path_pairs))\n",
    "            \n",
    "            # If `edge` does not exist in original graph, find the shortest path between its nodes and \n",
    "            #  add the edge attributes for each link in the shortest path.\n",
    "            for edge_aug in aug_path_pairs:\n",
    "                edge_aug_att = graph_original[edge_aug[0]][edge_aug[1]]\n",
    "                euler_circuit.append((edge_aug[0], edge_aug[1], edge_aug_att))\n",
    "                                      \n",
    "    return euler_circuit"
   ]
  },
  {
   "cell_type": "code",
   "execution_count": 12,
   "metadata": {},
   "outputs": [],
   "source": [
    "def test_add_augmenting_path_to_graph(g):\n",
    "    \"\"\"\n",
    "    Check the function only results in even-degree edges\n",
    "    \"\"\"\n",
    "    \n",
    "    odd_list = [n for n, d in g.degree() if d % 2 == 1]\n",
    "    assert len(odd_list) == 0, \"Graph not a valid graph to create Eulerian circuit\""
   ]
  },
  {
   "cell_type": "markdown",
   "metadata": {},
   "source": [
    "### Find all the odd degree nodes (must be traversed multiple times)"
   ]
  },
  {
   "cell_type": "code",
   "execution_count": 13,
   "metadata": {},
   "outputs": [
    {
     "name": "stdout",
     "output_type": "stream",
     "text": [
      "Number of nodes of odd degree for graph A: 32\n",
      "Number of nodes of odd degree for graph B: 12\n"
     ]
    }
   ],
   "source": [
    "nodes_odd_degree = {}\n",
    "\n",
    "# Calculate list of nodes with odd degree\n",
    "for s in config['sub_nets'].keys():\n",
    "    nodes_odd_degree[s] = [v for v, d in graphs[s].degree() if d % 2 == 1]\n",
    "    print('Number of nodes of odd degree for graph {}: {}'.format(s, len(nodes_odd_degree[s])))"
   ]
  },
  {
   "cell_type": "markdown",
   "metadata": {},
   "source": [
    "### Add edges to the graph corresponding to the shortest path pairing"
   ]
  },
  {
   "cell_type": "code",
   "execution_count": 14,
   "metadata": {},
   "outputs": [
    {
     "name": "stdout",
     "output_type": "stream",
     "text": [
      "Number of pairs for graph A: 496\n",
      "Number of pairs for graph B: 66\n"
     ]
    }
   ],
   "source": [
    "odd_node_pairs = {}\n",
    "\n",
    "# compute all node pairs, get a list of tuples\n",
    "for s in config['sub_nets'].keys():\n",
    "    odd_node_pairs[s] = list(itertools.combinations(nodes_odd_degree[s], 2))\n",
    "\n",
    "    print('Number of pairs for graph {}: {}'.format(s, len(odd_node_pairs[s])))"
   ]
  },
  {
   "cell_type": "code",
   "execution_count": 15,
   "metadata": {},
   "outputs": [],
   "source": [
    "odd_node_pairs_shortest_paths = {}\n",
    "\n",
    "# compute shortest path between node pairs\n",
    "for s in config['sub_nets'].keys():\n",
    "    odd_node_pairs_shortest_paths[s] = get_shortest_paths_distances(graphs[s], odd_node_pairs[s], 'distance')"
   ]
  },
  {
   "cell_type": "code",
   "execution_count": 16,
   "metadata": {},
   "outputs": [
    {
     "data": {
      "text/plain": [
       "{('A2', 'L1'): 34,\n",
       " ('A2', 'C1'): 225,\n",
       " ('A2', 'B1'): 163,\n",
       " ('A2', 'J1'): 246,\n",
       " ('A2', 'J2'): 204,\n",
       " ('A2', 'D2'): 284,\n",
       " ('A2', 'D1'): 319,\n",
       " ('A2', 'E1'): 376,\n",
       " ('A2', 'F1'): 417,\n",
       " ('A2', 'F3'): 492}"
      ]
     },
     "execution_count": 16,
     "metadata": {},
     "output_type": "execute_result"
    }
   ],
   "source": [
    "# inspect the shortest paths for each pair\n",
    "dict(list(odd_node_pairs_shortest_paths['A'].items())[0:10])"
   ]
  },
  {
   "cell_type": "code",
   "execution_count": 17,
   "metadata": {},
   "outputs": [
    {
     "name": "stdout",
     "output_type": "stream",
     "text": [
      "Number of nodes for graph A: 32\n",
      "Number of edges for graph A: 496\n",
      "Number of nodes for graph B: 12\n",
      "Number of edges for graph B: 66\n"
     ]
    }
   ],
   "source": [
    "g_odd_complete = {}\n",
    "\n",
    "# Generate the complete graph for the odd-degree nodes\n",
    "for s in config['sub_nets'].keys():\n",
    "    g_odd_complete[s] = create_complete_graph(odd_node_pairs_shortest_paths[s], flip_weights=True)\n",
    "\n",
    "    print('Number of nodes for graph {}: {}'.format(s, len(g_odd_complete[s].nodes())))\n",
    "    print('Number of edges for graph {}: {}'.format(s, len(g_odd_complete[s].edges())))"
   ]
  },
  {
   "cell_type": "code",
   "execution_count": 18,
   "metadata": {},
   "outputs": [
    {
     "name": "stdout",
     "output_type": "stream",
     "text": [
      "Number of edges in matching for graph A: 16\n",
      "Number of edges in matching for graph B: 6\n"
     ]
    }
   ],
   "source": [
    "odd_matching_dupes = {}\n",
    "\n",
    "# Compute min weight matching.\n",
    "# Note: max_weight_matching uses the 'weight' attribute by default as the attribute to maximize.\n",
    "for s in config['sub_nets'].keys():\n",
    "    odd_matching_dupes[s] = nx.algorithms.max_weight_matching(g_odd_complete[s], True)\n",
    "\n",
    "    print('Number of edges in matching for graph {}: {}'.format(s, len(odd_matching_dupes[s])))"
   ]
  },
  {
   "cell_type": "code",
   "execution_count": 19,
   "metadata": {},
   "outputs": [
    {
     "data": {
      "text/plain": [
       "{('B1', 'C1'),\n",
       " ('B4', 'B5'),\n",
       " ('C4', 'C5'),\n",
       " ('C7', 'C6'),\n",
       " ('D2', 'D1'),\n",
       " ('F1', 'E1'),\n",
       " ('F3', 'E4'),\n",
       " ('G2', 'I1'),\n",
       " ('H2', 'H3'),\n",
       " ('I2', 'E3'),\n",
       " ('J2', 'J1'),\n",
       " ('J3', 'K1'),\n",
       " ('J4', 'D4'),\n",
       " ('K2', 'K3'),\n",
       " ('L1', 'A2'),\n",
       " ('L2', 'A3')}"
      ]
     },
     "execution_count": 19,
     "metadata": {},
     "output_type": "execute_result"
    }
   ],
   "source": [
    "# TODO: check if you need to deduplicate this\n",
    "odd_matching_dupes['A']"
   ]
  },
  {
   "cell_type": "code",
   "execution_count": 20,
   "metadata": {},
   "outputs": [
    {
     "name": "stdout",
     "output_type": "stream",
     "text": [
      "Number of edges in original graph A: 65\n",
      "Number of edges in augmented graph A: 81\n",
      "Number of edges in original graph B: 25\n",
      "Number of edges in augmented graph B: 31\n"
     ]
    }
   ],
   "source": [
    "g_aug = {}\n",
    "\n",
    "# Create augmented graph: add the min weight matching edges to g\n",
    "for s in config['sub_nets'].keys():\n",
    "    g_aug[s] = add_augmenting_path_to_graph(graphs[s], odd_matching_dupes[s])\n",
    "\n",
    "    # Counts\n",
    "    print('Number of edges in original graph {}: {}'.format(s, len(graphs[s].edges())))\n",
    "    print('Number of edges in augmented graph {}: {}'.format(s, len(g_aug[s].edges())))"
   ]
  },
  {
   "cell_type": "code",
   "execution_count": 21,
   "metadata": {},
   "outputs": [],
   "source": [
    "for s in config['sub_nets'].keys():\n",
    "    test_add_augmenting_path_to_graph(g_aug[s])\n",
    "    pd.value_counts([e[1] for e in g_aug[s].degree()])"
   ]
  },
  {
   "cell_type": "markdown",
   "metadata": {},
   "source": [
    "### Find the Eulerian tour with the revised network"
   ]
  },
  {
   "cell_type": "code",
   "execution_count": 22,
   "metadata": {},
   "outputs": [
    {
     "name": "stdout",
     "output_type": "stream",
     "text": [
      "## Filling for graph A\n",
      "Filling in edges for augmented edge: ('I1', 'G2')\n",
      "Augmenting path: I1 => E2 => F2 => G2\n",
      "Augmenting path pairs: [('I1', 'E2'), ('E2', 'F2'), ('F2', 'G2')]\n",
      "\n",
      "Filling in edges for augmented edge: ('K1', 'J3')\n",
      "Augmenting path: K1 => J2 => J3\n",
      "Augmenting path pairs: [('K1', 'J2'), ('J2', 'J3')]\n",
      "\n",
      "Length of Eulerian circuit for graph A: 84\n",
      "## Filling for graph B\n",
      "Length of Eulerian circuit for graph B: 31\n"
     ]
    }
   ],
   "source": [
    "euler_circuit = {}\n",
    "\n",
    "# Create the Eulerian circuit, filling in unknown connections with the shortest path between nodes\n",
    "for s in config['sub_nets'].keys():\n",
    "    print(\"## Filling for graph {}\".format(s))\n",
    "    euler_circuit[s] = create_eulerian_circuit(g_aug[s], graphs[s], config['start_nodes'][s], method=config['method'])\n",
    "    \n",
    "    print('Length of Eulerian circuit for graph {}: {}'.format(s, len(euler_circuit[s])))"
   ]
  },
  {
   "cell_type": "markdown",
   "metadata": {},
   "source": [
    "# Gather stats about the route"
   ]
  },
  {
   "cell_type": "code",
   "execution_count": 23,
   "metadata": {
    "scrolled": false
   },
   "outputs": [
    {
     "name": "stdout",
     "output_type": "stream",
     "text": [
      "Euler circuit for graph A\n",
      "0 ('A4', 'A3', {'distance': 118, 'graph': 'original', 'section': 'A'})\n",
      "1 ('A3', 'L2', {'distance': 32, 'graph': 'original', 'section': 'A'})\n",
      "2 ('L2', 'B4', {'distance': 32, 'graph': 'original', 'section': 'A'})\n",
      "3 ('B4', 'B5', {'distance': 124, 'graph': 'original', 'section': 'A'})\n",
      "4 ('B5', 'C7', {'distance': 81, 'graph': 'original', 'section': 'A'})\n",
      "5 ('C7', 'C6', {'distance': 38, 'graph': 'original', 'section': 'A'})\n",
      "6 ('C6', 'C7', {'distance': 38, 'graph': 'original', 'section': 'A'})\n",
      "7 ('C7', 'K3', {'distance': 54, 'graph': 'original', 'section': 'A'})\n",
      "8 ('K3', 'K2', {'distance': 85, 'graph': 'original', 'section': 'A'})\n",
      "9 ('K2', 'J4', {'distance': 27, 'graph': 'original', 'section': 'A'})\n",
      "10 ('J4', 'D4', {'distance': 33, 'graph': 'original', 'section': 'A'})\n",
      "11 ('D4', 'J4', {'distance': 33, 'graph': 'original', 'section': 'A'})\n",
      "12 ('J4', 'J3', {'distance': 121, 'graph': 'original', 'section': 'A'})\n",
      "13 ('J3', 'D3', {'distance': 30, 'graph': 'original', 'section': 'A'})\n",
      "14 ('D3', 'D4', {'distance': 100, 'graph': 'original', 'section': 'A'})\n",
      "15 ('D4', 'I2', {'distance': 32, 'graph': 'original', 'section': 'A'})\n",
      "16 ('I2', 'E3', {'distance': 38, 'graph': 'original', 'section': 'A'})\n",
      "17 ('E3', 'I2', {'distance': 38, 'graph': 'original', 'section': 'A'})\n",
      "18 ('I2', 'I1', {'distance': 94, 'graph': 'original', 'section': 'A'})\n",
      "19 ('I1', 'E2', {'distance': 32, 'graph': 'original', 'section': 'A'})\n",
      "20 ('E2', 'F2', {'distance': 39, 'graph': 'original', 'section': 'A'})\n",
      "21 ('F2', 'G2', {'distance': 38, 'graph': 'original', 'section': 'A'})\n",
      "22 ('G2', 'G3', {'distance': 136, 'graph': 'original', 'section': 'A'})\n",
      "23 ('G3', 'H3', {'distance': 26, 'graph': 'original', 'section': 'A'})\n",
      "24 ('H3', 'H2', {'distance': 50, 'graph': 'original', 'section': 'A'})\n",
      "25 ('H2', 'H3', {'distance': 50, 'graph': 'original', 'section': 'A'})\n",
      "26 ('H3', 'F3', {'distance': 37, 'graph': 'original', 'section': 'A'})\n",
      "27 ('F3', 'E4', {'distance': 35, 'graph': 'original', 'section': 'A'})\n",
      "28 ('E4', 'E3', {'distance': 59, 'graph': 'original', 'section': 'A'})\n",
      "29 ('E3', 'E2', {'distance': 95, 'graph': 'original', 'section': 'A'})\n",
      "30 ('E2', 'F2', {'distance': 39, 'graph': 'original', 'section': 'A'})\n",
      "31 ('F2', 'G2', {'distance': 38, 'graph': 'original', 'section': 'A'})\n",
      "32 ('G2', 'G1', {'distance': 91, 'graph': 'original', 'section': 'A'})\n",
      "33 ('G1', 'F1', {'distance': 32, 'graph': 'original', 'section': 'A'})\n",
      "34 ('F1', 'E1', {'distance': 41, 'graph': 'original', 'section': 'A'})\n",
      "35 ('E1', 'E2', {'distance': 94, 'graph': 'original', 'section': 'A'})\n",
      "36 ('E2', 'I1', {'distance': 32, 'graph': 'original', 'section': 'A'})\n",
      "37 ('I1', 'D3', {'distance': 31, 'graph': 'original', 'section': 'A'})\n",
      "38 ('D3', 'D2', {'distance': 46, 'graph': 'original', 'section': 'A'})\n",
      "39 ('D2', 'D1', {'distance': 46, 'graph': 'original', 'section': 'A'})\n",
      "40 ('D1', 'E1', {'distance': 57, 'graph': 'original', 'section': 'A'})\n",
      "41 ('E1', 'F1', {'distance': 41, 'graph': 'original', 'section': 'A'})\n",
      "42 ('F1', 'F2', {'distance': 95, 'graph': 'original', 'section': 'A'})\n",
      "43 ('F2', 'F3', {'distance': 144, 'graph': 'original', 'section': 'A'})\n",
      "44 ('F3', 'E4', {'distance': 35, 'graph': 'original', 'section': 'A'})\n",
      "45 ('E4', 'K3', {'distance': 142, 'graph': 'original', 'section': 'A'})\n",
      "46 ('K3', 'K2', {'distance': 85, 'graph': 'original', 'section': 'A'})\n",
      "47 ('K2', 'K1', {'distance': 127, 'graph': 'original', 'section': 'A'})\n",
      "48 ('K1', 'J2', {'distance': 18, 'graph': 'original', 'section': 'A'})\n",
      "49 ('J2', 'J3', {'distance': 12, 'graph': 'original', 'section': 'A'})\n",
      "50 ('J3', 'J2', {'distance': 12, 'graph': 'original', 'section': 'A'})\n",
      "51 ('J2', 'J1', {'distance': 44, 'graph': 'original', 'section': 'A'})\n",
      "52 ('J1', 'D2', {'distance': 38, 'graph': 'original', 'section': 'A'})\n",
      "53 ('D2', 'D1', {'distance': 46, 'graph': 'original', 'section': 'A'})\n",
      "54 ('D1', 'C1', {'distance': 94, 'graph': 'original', 'section': 'A'})\n",
      "55 ('C1', 'B1', {'distance': 73, 'graph': 'original', 'section': 'A'})\n",
      "56 ('B1', 'B1-2', {'distance': 40, 'graph': 'original', 'section': 'A'})\n",
      "57 ('B1-2', 'C2', {'distance': 75, 'graph': 'original', 'section': 'A'})\n",
      "58 ('C2', 'J1', {'distance': 61, 'graph': 'original', 'section': 'A'})\n",
      "59 ('J1', 'J2', {'distance': 44, 'graph': 'original', 'section': 'A'})\n",
      "60 ('J2', 'K1', {'distance': 18, 'graph': 'original', 'section': 'A'})\n",
      "61 ('K1', 'C3', {'distance': 46, 'graph': 'original', 'section': 'A'})\n",
      "62 ('C3', 'C4', {'distance': 33, 'graph': 'original', 'section': 'A'})\n",
      "63 ('C4', 'C5', {'distance': 63, 'graph': 'original', 'section': 'A'})\n",
      "64 ('C5', 'C4', {'distance': 63, 'graph': 'original', 'section': 'A'})\n",
      "65 ('C4', 'B3', {'distance': 71, 'graph': 'original', 'section': 'A'})\n",
      "66 ('B3', 'L2', {'distance': 107, 'graph': 'original', 'section': 'A'})\n",
      "67 ('L2', 'A3', {'distance': 32, 'graph': 'original', 'section': 'A'})\n",
      "68 ('A3', 'A2', {'distance': 106, 'graph': 'original', 'section': 'A'})\n",
      "69 ('A2', 'L1', {'distance': 34, 'graph': 'original', 'section': 'A'})\n",
      "70 ('L1', 'B1-2', {'distance': 89, 'graph': 'original', 'section': 'A'})\n",
      "71 ('B1-2', 'B2', {'distance': 57, 'graph': 'original', 'section': 'A'})\n",
      "72 ('B2', 'C3', {'distance': 72, 'graph': 'original', 'section': 'A'})\n",
      "73 ('C3', 'C2', {'distance': 45, 'graph': 'original', 'section': 'A'})\n",
      "74 ('C2', 'C1', {'distance': 40, 'graph': 'original', 'section': 'A'})\n",
      "75 ('C1', 'B1', {'distance': 73, 'graph': 'original', 'section': 'A'})\n",
      "76 ('B1', 'A1', {'distance': 66, 'graph': 'original', 'section': 'A'})\n",
      "77 ('A1', 'A2', {'distance': 100, 'graph': 'original', 'section': 'A'})\n",
      "78 ('A2', 'L1', {'distance': 34, 'graph': 'original', 'section': 'A'})\n",
      "79 ('L1', 'B2', {'distance': 34, 'graph': 'original', 'section': 'A'})\n",
      "80 ('B2', 'B3', {'distance': 27, 'graph': 'original', 'section': 'A'})\n",
      "81 ('B3', 'B4', {'distance': 73, 'graph': 'original', 'section': 'A'})\n",
      "82 ('B4', 'B5', {'distance': 124, 'graph': 'original', 'section': 'A'})\n",
      "83 ('B5', 'A4', {'distance': 66, 'graph': 'original', 'section': 'all'})\n",
      "Euler circuit for graph B\n",
      "0 ('A4', 'B5', {'distance': 66, 'graph': 'original', 'section': 'all'})\n",
      "1 ('B5', 'C8', {'distance': 67, 'graph': 'original', 'section': 'B'})\n",
      "2 ('C8', 'M1', {'distance': 59, 'graph': 'original', 'section': 'B'})\n",
      "3 ('M1', 'N1', {'distance': 48, 'graph': 'original', 'section': 'B'})\n",
      "4 ('N1', 'N2', {'distance': 34, 'graph': 'original', 'section': 'B'})\n",
      "5 ('N2', 'N3', {'distance': 39, 'graph': 'original', 'section': 'B'})\n",
      "6 ('N3', 'M3', {'distance': 50, 'graph': 'original', 'section': 'B'})\n",
      "7 ('M3', 'N3', {'distance': 50, 'graph': 'original', 'section': 'B'})\n",
      "8 ('N3', 'O2', {'distance': 51, 'graph': 'original', 'section': 'B'})\n",
      "9 ('O2', 'E6', {'distance': 62, 'graph': 'original', 'section': 'B'})\n",
      "10 ('E6', 'G4', {'distance': 113, 'graph': 'original', 'section': 'B'})\n",
      "11 ('G4', 'G3', {'distance': 120, 'graph': 'original', 'section': 'B'})\n",
      "12 ('G3', 'E4', {'distance': 111, 'graph': 'original', 'section': 'B'})\n",
      "13 ('E4', 'O1', {'distance': 59, 'graph': 'original', 'section': 'B'})\n",
      "14 ('O1', 'E4', {'distance': 59, 'graph': 'original', 'section': 'B'})\n",
      "15 ('E4', 'E6', {'distance': 108, 'graph': 'original', 'section': 'B'})\n",
      "16 ('E6', 'O2', {'distance': 62, 'graph': 'original', 'section': 'B'})\n",
      "17 ('O2', 'O1', {'distance': 89, 'graph': 'original', 'section': 'B'})\n",
      "18 ('O1', 'N1', {'distance': 49, 'graph': 'original', 'section': 'B'})\n",
      "19 ('N1', 'M1', {'distance': 48, 'graph': 'original', 'section': 'B'})\n",
      "20 ('M1', 'M2', {'distance': 32, 'graph': 'original', 'section': 'B'})\n",
      "21 ('M2', 'M3', {'distance': 39, 'graph': 'original', 'section': 'B'})\n",
      "22 ('M3', 'C10', {'distance': 63, 'graph': 'original', 'section': 'B'})\n",
      "23 ('C10', 'B6', {'distance': 69, 'graph': 'original', 'section': 'B'})\n",
      "24 ('B6', 'C10', {'distance': 69, 'graph': 'original', 'section': 'B'})\n",
      "25 ('C10', 'C9', {'distance': 45, 'graph': 'original', 'section': 'B'})\n",
      "26 ('C9', 'C8', {'distance': 30, 'graph': 'original', 'section': 'B'})\n",
      "27 ('C8', 'B5', {'distance': 67, 'graph': 'original', 'section': 'B'})\n",
      "28 ('B5', 'B6', {'distance': 89, 'graph': 'original', 'section': 'B'})\n",
      "29 ('B6', 'A5', {'distance': 70, 'graph': 'original', 'section': 'B'})\n",
      "30 ('A5', 'A4', {'distance': 94, 'graph': 'original', 'section': 'B'})\n"
     ]
    }
   ],
   "source": [
    "# Preview first 20 directions of CPP solution\n",
    "for s in config['sub_nets'].keys():\n",
    "    print(\"Euler circuit for graph {}\".format(s))\n",
    "    for i, edge in enumerate(euler_circuit[s][:]):\n",
    "        print(i, edge)"
   ]
  },
  {
   "cell_type": "code",
   "execution_count": 24,
   "metadata": {},
   "outputs": [
    {
     "name": "stdout",
     "output_type": "stream",
     "text": [
      "Statistics for graph A\n",
      "Mileage of circuit: 4991.00\n",
      "Mileage on original map: 4116.00\n",
      "Mileage retracing edges: 875.00\n",
      "Percent of mileage retraced: 21.26%\n",
      "\n",
      "Number of edges in circuit: 84\n",
      "Number of edges in original graph: 65\n",
      "Number of nodes in original graph: 44\n",
      "\n",
      "Number of edges traversed more than once: 19\n",
      "\n",
      "Number of times visiting each node:\n",
      " n_visits  n_nodes\n",
      "        1        7\n",
      "        2       34\n",
      "        3        3\n",
      "\n",
      "Number of times visiting each edge:\n",
      " n_visits  n_edges\n",
      "        1       46\n",
      "        2       19\n",
      "Statistics for graph B\n",
      "Mileage of circuit: 2011.00\n",
      "Mileage on original map: 1656.00\n",
      "Mileage retracing edges: 355.00\n",
      "Percent of mileage retraced: 21.44%\n",
      "\n",
      "Number of edges in circuit: 31\n",
      "Number of edges in original graph: 25\n",
      "Number of nodes in original graph: 19\n",
      "\n",
      "Number of edges traversed more than once: 6\n",
      "\n",
      "Number of times visiting each node:\n",
      " n_visits  n_nodes\n",
      "        1        7\n",
      "        2       12\n",
      "\n",
      "Number of times visiting each edge:\n",
      " n_visits  n_edges\n",
      "        1       19\n",
      "        2        6\n"
     ]
    }
   ],
   "source": [
    "# Computing some stats\n",
    "for s in config['sub_nets'].keys():\n",
    "    print(\"Statistics for graph {}\".format(s))\n",
    "    total_mileage_of_circuit = sum([edge[2]['distance'] for edge in euler_circuit[s]])\n",
    "    total_mileage_on_orig_map = sum(nx.get_edge_attributes(graphs[s], 'distance').values())\n",
    "    _vcn = pd.value_counts(pd.value_counts([(e[0]) for e in euler_circuit[s]]), sort=False)\n",
    "    node_visits = pd.DataFrame({'n_visits': _vcn.index, 'n_nodes': _vcn.values})\n",
    "    _vce = pd.value_counts(pd.value_counts([sorted(e)[0] + sorted(e)[1] for e in nx.MultiDiGraph(euler_circuit[s]).edges()]))\n",
    "    edge_visits = pd.DataFrame({'n_visits': _vce.index, 'n_edges': _vce.values})\n",
    "\n",
    "    # Printing stats\n",
    "    print('Mileage of circuit: {0:.2f}'.format(total_mileage_of_circuit))\n",
    "    print('Mileage on original map: {0:.2f}'.format(total_mileage_on_orig_map))\n",
    "    print('Mileage retracing edges: {0:.2f}'.format(total_mileage_of_circuit-total_mileage_on_orig_map))\n",
    "    print('Percent of mileage retraced: {0:.2f}%\\n'.format((1-total_mileage_of_circuit/total_mileage_on_orig_map)*-100))\n",
    "\n",
    "    print('Number of edges in circuit: {}'.format(len(euler_circuit[s])))\n",
    "    print('Number of edges in original graph: {}'.format(len(graphs[s].edges())))\n",
    "    print('Number of nodes in original graph: {}\\n'.format(len(graphs[s].nodes())))\n",
    "\n",
    "    print('Number of edges traversed more than once: {}\\n'.format(len(euler_circuit[s])-len(graphs[s].edges())))  \n",
    "\n",
    "    print('Number of times visiting each node:')\n",
    "    print(node_visits.to_string(index=False))\n",
    "\n",
    "    print('\\nNumber of times visiting each edge:')\n",
    "    print(edge_visits.to_string(index=False))"
   ]
  },
  {
   "cell_type": "code",
   "execution_count": null,
   "metadata": {},
   "outputs": [],
   "source": []
  }
 ],
 "metadata": {
  "kernelspec": {
   "display_name": "Python 3",
   "language": "python",
   "name": "python3"
  },
  "language_info": {
   "codemirror_mode": {
    "name": "ipython",
    "version": 3
   },
   "file_extension": ".py",
   "mimetype": "text/x-python",
   "name": "python",
   "nbconvert_exporter": "python",
   "pygments_lexer": "ipython3",
   "version": "3.7.1"
  }
 },
 "nbformat": 4,
 "nbformat_minor": 2
}
